{
 "cells": [
  {
   "cell_type": "markdown",
   "id": "cdbc5ca3-0ed1-42dd-8333-87e753b7a671",
   "metadata": {},
   "source": [
    "Evaluate Object Detector"
   ]
  },
  {
   "cell_type": "code",
   "execution_count": 4,
   "id": "1de6d5e4-62a1-4df6-8924-af89b443eade",
   "metadata": {},
   "outputs": [
    {
     "name": "stdout",
     "output_type": "stream",
     "text": [
      "recall: 0.9090909090909091\n",
      "precision: 0.8333333333333334\n",
      "f1: 0.8695652173913043\n"
     ]
    }
   ],
   "source": [
    "import cv2\n",
    "import pandas as pd\n",
    "from object_eval import drawbox, find_match, evaluate\n",
    "\n",
    "# load data\n",
    "gt_file = 'gt.txt'\n",
    "gt_dataframe = pd.read_csv(gt_file, header = None, sep = ',', engine='python')\n",
    "est_file = 'est.txt'\n",
    "est_dataframe = pd.read_csv(est_file, header = None, sep = ',', engine='python')\n",
    "image_folder = 'image_folder'\n",
    "\n",
    "# compute recall, precision and f1 score\n",
    "recall, precision, f1 = evaluate(gt_file, est_file);\n",
    "print('recall:', recall)   \n",
    "print('precision:', precision)\n",
    "print('f1:', f1)"
   ]
  },
  {
   "cell_type": "markdown",
   "id": "4f033e9d-2d55-4f7f-a110-4f125c225883",
   "metadata": {},
   "source": [
    "Check Save Functions"
   ]
  },
  {
   "cell_type": "code",
   "execution_count": 2,
   "id": "4902a3fa-e7eb-480c-ac26-b30159049bbc",
   "metadata": {},
   "outputs": [],
   "source": [
    "# check the drawbox function by drawing the first groundtruth box\n",
    "interest_box = 0\n",
    "line = list(gt_dataframe.iloc[interest_box])\n",
    "# image name\n",
    "name = line[0]\n",
    "# box coordinates\n",
    "box = [line[1:]]\n",
    "# draw\n",
    "img = drawbox(image_folder + '/' + name, box);"
   ]
  },
  {
   "cell_type": "markdown",
   "id": "a43629b6-af21-4113-b091-aa48e0b7cf49",
   "metadata": {},
   "source": [
    "Ensure the evaluation is fair to your algorithm. Note if a single object is detected multiple times, only the first box is deemed correct. "
   ]
  },
  {
   "cell_type": "code",
   "execution_count": 3,
   "id": "091c5150-d3e5-4aba-ae68-7bb0b36e401a",
   "metadata": {},
   "outputs": [],
   "source": [
    "# folder for all boxes deemed misestimated\n",
    "wrong_folder = 'wrongly_estimated_boxes'\n",
    "# folder for all boxes deemed correctly estimated\n",
    "right_folder = 'correctly_estimated_boxes'\n",
    "\n",
    "# number of estimated boxes\n",
    "num_boxes = len(est_dataframe)\n",
    "# for each estimated box, look for a corresponding box in the groundtruth\n",
    "has_match = find_match(est_dataframe, gt_dataframe, 0.5)\n",
    "\n",
    "# for each estimated box\n",
    "for i in range(num_boxes):\n",
    "    # obtain its statistics\n",
    "    line = list(est_dataframe.iloc[i])\n",
    "    # image name\n",
    "    name = line[0]\n",
    "    # box location in widthheight format\n",
    "    box = [line[1:]]\n",
    "    # draw the box on  image\n",
    "    img = drawbox(image_folder + '/' + name, box, display=False)\n",
    "    if has_match[i] == 0:\n",
    "        # box is wrong\n",
    "        cv2.imwrite(wrong_folder + '/' + str(i).zfill(5) +'.jpg', img)\n",
    "    else:\n",
    "        # box is correct\n",
    "        cv2.imwrite(right_folder + '/' + str(i).zfill(5) +'.jpg', img)\n"
   ]
  },
  {
   "cell_type": "code",
   "execution_count": null,
   "id": "ccc831f4-2ba5-4392-ba04-7732db637111",
   "metadata": {},
   "outputs": [],
   "source": []
  }
 ],
 "metadata": {
  "kernelspec": {
   "display_name": "Python 3 (ipykernel)",
   "language": "python",
   "name": "python3"
  },
  "language_info": {
   "codemirror_mode": {
    "name": "ipython",
    "version": 3
   },
   "file_extension": ".py",
   "mimetype": "text/x-python",
   "name": "python",
   "nbconvert_exporter": "python",
   "pygments_lexer": "ipython3",
   "version": "3.11.4"
  }
 },
 "nbformat": 4,
 "nbformat_minor": 5
}
