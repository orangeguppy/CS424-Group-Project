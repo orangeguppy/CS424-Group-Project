{
 "cells": [
  {
   "cell_type": "markdown",
   "id": "cdbc5ca3-0ed1-42dd-8333-87e753b7a671",
   "metadata": {},
   "source": [
    "Evaluate Image Identification "
   ]
  },
  {
   "cell_type": "code",
   "execution_count": 1,
   "id": "1de6d5e4-62a1-4df6-8924-af89b443eade",
   "metadata": {},
   "outputs": [],
   "source": [
    "import cv2\n",
    "import numpy  as np\n",
    "import pandas as pd\n",
    "from object_eval import drawbox, find_match, evaluate\n",
    "from sklearn.metrics import roc_auc_score\n",
    "\n",
    "# load groundtruth\n",
    "gt_file = 'id_gt_tst.txt'\n",
    "gt_dataframe = pd.read_csv(gt_file, header = None, sep = ',', engine='python')\n",
    "# split it into names and labels\n",
    "gt_names = list(gt_dataframe[0])\n",
    "gt_label = np.array(gt_dataframe[1])\n",
    "# sort labels by names\n",
    "gt_label = gt_label[np.argsort(gt_names)]"
   ]
  },
  {
   "cell_type": "code",
   "execution_count": 2,
   "id": "10b9a5ed-28df-42f4-9872-f4d3fc200717",
   "metadata": {},
   "outputs": [],
   "source": [
    "# load estimated scores\n",
    "est_file = 'id_est_tst2.txt'\n",
    "est_dataframe = pd.read_csv(est_file, header = None, sep = ',', engine='python')\n",
    "# split it into names and labels\n",
    "est_names = list(est_dataframe[0])\n",
    "est_scores = np.array(est_dataframe[1])\n",
    "# sort scores by names\n",
    "est_scores = est_scores[np.argsort(est_names)]"
   ]
  },
  {
   "cell_type": "code",
   "execution_count": 3,
   "id": "eb26a40f-662a-4e56-9db2-663f624d756b",
   "metadata": {},
   "outputs": [
    {
     "name": "stdout",
     "output_type": "stream",
     "text": [
      "auroc: 0.9166666666666666\n"
     ]
    }
   ],
   "source": [
    "# compute auroc\n",
    "print('auroc:', roc_auc_score(gt_label==1, est_scores))"
   ]
  }
 ],
 "metadata": {
  "kernelspec": {
   "display_name": "Python 3 (ipykernel)",
   "language": "python",
   "name": "python3"
  },
  "language_info": {
   "codemirror_mode": {
    "name": "ipython",
    "version": 3
   },
   "file_extension": ".py",
   "mimetype": "text/x-python",
   "name": "python",
   "nbconvert_exporter": "python",
   "pygments_lexer": "ipython3",
   "version": "3.11.5"
  }
 },
 "nbformat": 4,
 "nbformat_minor": 5
}
