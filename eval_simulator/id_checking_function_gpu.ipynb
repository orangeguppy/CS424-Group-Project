{
 "cells": [
  {
   "cell_type": "markdown",
   "id": "cdbc5ca3-0ed1-42dd-8333-87e753b7a671",
   "metadata": {},
   "source": [
    "Evaluate Image Identification "
   ]
  },
  {
   "cell_type": "code",
   "execution_count": 21,
   "id": "307369fa-659f-46ed-86b2-a7cf4d9d499c",
   "metadata": {},
   "outputs": [
    {
     "name": "stdout",
     "output_type": "stream",
     "text": [
      "Requirement already satisfied: opencv-python in /common/home/users/j/jess.toh.2021/jupyterlab-venv-pytorch-py311/lib/python3.11/site-packages (4.9.0.80)\n",
      "Requirement already satisfied: numpy>=1.21.2 in /common/home/users/j/jess.toh.2021/jupyterlab-venv-pytorch-py311/lib/python3.11/site-packages (from opencv-python) (1.26.4)\n"
     ]
    }
   ],
   "source": [
    "!pip install opencv-python"
   ]
  },
  {
   "cell_type": "code",
   "execution_count": 22,
   "id": "7d997dee-d29c-4ed2-9247-fec19798166e",
   "metadata": {},
   "outputs": [
    {
     "name": "stdout",
     "output_type": "stream",
     "text": [
      "Requirement already satisfied: pandas in /common/home/users/j/jess.toh.2021/jupyterlab-venv-pytorch-py311/lib/python3.11/site-packages (2.2.1)\n",
      "Requirement already satisfied: numpy<2,>=1.23.2 in /common/home/users/j/jess.toh.2021/jupyterlab-venv-pytorch-py311/lib/python3.11/site-packages (from pandas) (1.26.4)\n",
      "Requirement already satisfied: python-dateutil>=2.8.2 in /common/home/users/j/jess.toh.2021/jupyterlab-venv-pytorch-py311/lib/python3.11/site-packages (from pandas) (2.9.0.post0)\n",
      "Requirement already satisfied: pytz>=2020.1 in /common/home/users/j/jess.toh.2021/jupyterlab-venv-pytorch-py311/lib/python3.11/site-packages (from pandas) (2024.1)\n",
      "Requirement already satisfied: tzdata>=2022.7 in /common/home/users/j/jess.toh.2021/jupyterlab-venv-pytorch-py311/lib/python3.11/site-packages (from pandas) (2024.1)\n",
      "Requirement already satisfied: six>=1.5 in /common/home/users/j/jess.toh.2021/jupyterlab-venv-pytorch-py311/lib/python3.11/site-packages (from python-dateutil>=2.8.2->pandas) (1.16.0)\n"
     ]
    }
   ],
   "source": [
    "!pip install pandas\n"
   ]
  },
  {
   "cell_type": "code",
   "execution_count": 23,
   "id": "fcecfee6-b4e2-409b-8cfd-3301080fa7b4",
   "metadata": {},
   "outputs": [
    {
     "name": "stdout",
     "output_type": "stream",
     "text": [
      "Requirement already satisfied: scikit-learn in /common/home/users/j/jess.toh.2021/jupyterlab-venv-pytorch-py311/lib/python3.11/site-packages (1.4.1.post1)\n",
      "Requirement already satisfied: numpy<2.0,>=1.19.5 in /common/home/users/j/jess.toh.2021/jupyterlab-venv-pytorch-py311/lib/python3.11/site-packages (from scikit-learn) (1.26.4)\n",
      "Requirement already satisfied: scipy>=1.6.0 in /common/home/users/j/jess.toh.2021/jupyterlab-venv-pytorch-py311/lib/python3.11/site-packages (from scikit-learn) (1.12.0)\n",
      "Requirement already satisfied: joblib>=1.2.0 in /common/home/users/j/jess.toh.2021/jupyterlab-venv-pytorch-py311/lib/python3.11/site-packages (from scikit-learn) (1.3.2)\n",
      "Requirement already satisfied: threadpoolctl>=2.0.0 in /common/home/users/j/jess.toh.2021/jupyterlab-venv-pytorch-py311/lib/python3.11/site-packages (from scikit-learn) (3.4.0)\n"
     ]
    }
   ],
   "source": [
    "!pip install scikit-learn\n"
   ]
  },
  {
   "cell_type": "code",
   "execution_count": 24,
   "id": "1de6d5e4-62a1-4df6-8924-af89b443eade",
   "metadata": {},
   "outputs": [],
   "source": [
    "import cv2\n",
    "import numpy  as np\n",
    "import pandas as pd\n",
    "from object_eval import drawbox, find_match, evaluate\n",
    "from sklearn.metrics import roc_auc_score\n",
    "\n",
    "# load groundtruth\n",
    "gt_file = '../id_gt_tst.txt'\n",
    "gt_dataframe = pd.read_csv(gt_file, header = None, sep = ',', engine='python')\n",
    "# split it into names and labels\n",
    "gt_names = list(gt_dataframe[0])\n",
    "gt_label = np.array(gt_dataframe[1])\n",
    "# sort labels by names\n",
    "gt_label = gt_label[np.argsort(gt_names)]"
   ]
  },
  {
   "cell_type": "code",
   "execution_count": 25,
   "id": "10b9a5ed-28df-42f4-9872-f4d3fc200717",
   "metadata": {},
   "outputs": [],
   "source": [
    "# load estimated scores\n",
    "est_file = '../final_output.txt'\n",
    "est_dataframe = pd.read_csv(est_file, header = None, sep = ',', engine='python')\n",
    "# split it into names and labels\n",
    "est_names = list(est_dataframe[0])\n",
    "est_scores = np.array(est_dataframe[1])\n",
    "# sort scores by names\n",
    "est_scores = est_scores[np.argsort(est_names)]"
   ]
  },
  {
   "cell_type": "code",
   "execution_count": 26,
   "id": "eb26a40f-662a-4e56-9db2-663f624d756b",
   "metadata": {},
   "outputs": [
    {
     "name": "stdout",
     "output_type": "stream",
     "text": [
      "auroc: 0.9621309370988447\n"
     ]
    }
   ],
   "source": [
    "# compute auroc\n",
    "print('auroc:', roc_auc_score(gt_label==1, est_scores))"
   ]
  }
 ],
 "metadata": {
  "kernelspec": {
   "display_name": "Python 3 (ipykernel)",
   "language": "python",
   "name": "python3"
  },
  "language_info": {
   "codemirror_mode": {
    "name": "ipython",
    "version": 3
   },
   "file_extension": ".py",
   "mimetype": "text/x-python",
   "name": "python",
   "nbconvert_exporter": "python",
   "pygments_lexer": "ipython3",
   "version": "3.11.4"
  }
 },
 "nbformat": 4,
 "nbformat_minor": 5
}
